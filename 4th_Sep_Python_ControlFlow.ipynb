{
 "cells": [
  {
   "cell_type": "markdown",
   "id": "fece1dac",
   "metadata": {},
   "source": [
    "# Basic Level"
   ]
  },
  {
   "cell_type": "code",
   "execution_count": 1,
   "id": "fb6264ec",
   "metadata": {},
   "outputs": [],
   "source": [
    "#1. Write a Python program that checks if a given number is positive, negative, or zero."
   ]
  },
  {
   "cell_type": "code",
   "execution_count": 5,
   "id": "1b363cd1",
   "metadata": {},
   "outputs": [
    {
     "name": "stdout",
     "output_type": "stream",
     "text": [
      "enter a number:-5\n",
      "it is a negative number\n"
     ]
    }
   ],
   "source": [
    "n = int(input('enter a number:'))\n",
    "if n>0:\n",
    "    print('it is a positive number')\n",
    "elif n<0:\n",
    "    print('it is a negative number')\n",
    "else:\n",
    "    print('the given number is Zero')"
   ]
  },
  {
   "cell_type": "code",
   "execution_count": 6,
   "id": "343dd9f6",
   "metadata": {},
   "outputs": [],
   "source": [
    "#2. Create a program to determine if a person is eligible to vote based on their age."
   ]
  },
  {
   "cell_type": "code",
   "execution_count": 7,
   "id": "10d4617b",
   "metadata": {},
   "outputs": [
    {
     "name": "stdout",
     "output_type": "stream",
     "text": [
      "enter the age: 12\n",
      "the person is not eligible to vote\n"
     ]
    }
   ],
   "source": [
    "p = int(input('enter the age: '))\n",
    "if p>18:\n",
    "    print('the person is eligible to vote')\n",
    "elif p<18:\n",
    "    print('the person is not eligible to vote')\n",
    "else:\n",
    "    print('invalid age')"
   ]
  },
  {
   "cell_type": "code",
   "execution_count": 8,
   "id": "817294af",
   "metadata": {},
   "outputs": [],
   "source": [
    "#3. Write a program to find the maximum of two given numbers using conditional statements."
   ]
  },
  {
   "cell_type": "code",
   "execution_count": 11,
   "id": "0bdda078",
   "metadata": {},
   "outputs": [
    {
     "name": "stdout",
     "output_type": "stream",
     "text": [
      "enter a number:5\n",
      "enter a number:19\n",
      "19 is greater than 5\n"
     ]
    }
   ],
   "source": [
    "n1 = int(input('enter a number:'))\n",
    "n2 = int(input('enter a number:'))\n",
    "if n1>n2:\n",
    "    print(n1,'is greater than',n2)\n",
    "elif n1<n2:\n",
    "    print(n2,'is greater than',n1)\n",
    "else:\n",
    "    print('both the numbers are equal')"
   ]
  },
  {
   "cell_type": "code",
   "execution_count": 12,
   "id": "f8b619a7",
   "metadata": {},
   "outputs": [],
   "source": [
    "#4. Develop a program that calculates the grade of a student based on their exam score."
   ]
  },
  {
   "cell_type": "code",
   "execution_count": 14,
   "id": "2b890f79",
   "metadata": {},
   "outputs": [
    {
     "name": "stdout",
     "output_type": "stream",
     "text": [
      "enter a number:67\n",
      "Fine you have got c grade\n"
     ]
    }
   ],
   "source": [
    "score = int(input('enter the score:'))\n",
    "if score>90:\n",
    "    print('Awesome you have got A+ grade')\n",
    "elif score>=85:\n",
    "    print('congrats you have got A grade')\n",
    "elif score>=75:\n",
    "    print('good you have got B grade')\n",
    "elif score>=65:\n",
    "    print('Fine you have got c grade')\n",
    "else:\n",
    "    print('you have Failed better luck next time')"
   ]
  },
  {
   "cell_type": "code",
   "execution_count": 15,
   "id": "ae89b2b2",
   "metadata": {},
   "outputs": [],
   "source": [
    "#5. Create a program that checks if a year is a leap year or not."
   ]
  },
  {
   "cell_type": "code",
   "execution_count": 20,
   "id": "6587803f",
   "metadata": {},
   "outputs": [
    {
     "name": "stdout",
     "output_type": "stream",
     "text": [
      "enter the year:2020\n",
      "2020 is a leap year\n"
     ]
    }
   ],
   "source": [
    "y = int(input('enter the year:'))\n",
    "if (y%400==0) and (y%100==0):\n",
    "    print('{} is a leap year'.format(y))\n",
    "elif (y%4==0) and (y%100!=0):\n",
    "    print('{} is a leap year'.format(y))\n",
    "else:\n",
    "    print(\"{0} is not a leap year\".format(y))"
   ]
  },
  {
   "cell_type": "code",
   "execution_count": 19,
   "id": "3876c818",
   "metadata": {},
   "outputs": [],
   "source": [
    "#6. Write a program to classify a triangle based on its sides' lengths."
   ]
  },
  {
   "cell_type": "code",
   "execution_count": 1,
   "id": "ffb32ae5",
   "metadata": {},
   "outputs": [
    {
     "name": "stdout",
     "output_type": "stream",
     "text": [
      "a: 10\n",
      "b: 10\n",
      "c: 10\n",
      "Equilateral triangle\n"
     ]
    }
   ],
   "source": [
    "a = int(input(\"a: \"))\n",
    "b = int(input(\"b: \"))\n",
    "c = int(input(\"c: \"))\n",
    "\n",
    "if a == b == c:\n",
    "    print(\"Equilateral triangle\")\n",
    "elif a==b or b==c or c==a:\n",
    "    print(\"isosceles triangle\")\n",
    "else:\n",
    "    print(\"Scalene triangle\")"
   ]
  },
  {
   "cell_type": "code",
   "execution_count": 2,
   "id": "e2961599",
   "metadata": {},
   "outputs": [],
   "source": [
    "#. Build a program that determines the largest of three given numbers."
   ]
  },
  {
   "cell_type": "code",
   "execution_count": 34,
   "id": "f5c5d065",
   "metadata": {},
   "outputs": [
    {
     "name": "stdout",
     "output_type": "stream",
     "text": [
      "a: 12\n",
      "b: 36\n",
      "c: 53\n",
      "53 is the largest number\n"
     ]
    }
   ],
   "source": [
    "a = int(input(\"a: \"))\n",
    "b = int(input(\"b: \"))\n",
    "c = int(input(\"c: \"))\n",
    "\n",
    "if a>b and a>c:\n",
    "    print( a,'is the largest number')\n",
    "elif b>a and b>c:\n",
    "    print(b,'is the largest number')\n",
    "else:\n",
    "    print(c,'is the largest number')\n",
    "    "
   ]
  },
  {
   "cell_type": "code",
   "execution_count": 7,
   "id": "04eacf4f",
   "metadata": {},
   "outputs": [],
   "source": [
    "#8. Develop a program that checks whether a character is a vowel or a consonant."
   ]
  },
  {
   "cell_type": "code",
   "execution_count": 8,
   "id": "1d51c9c5",
   "metadata": {},
   "outputs": [
    {
     "name": "stdout",
     "output_type": "stream",
     "text": [
      "enter a character:s\n",
      "the given character is a consonant\n"
     ]
    }
   ],
   "source": [
    "ch = input('enter a character:')\n",
    "v = 'aeiou'\n",
    "if ch == v:\n",
    "    print('the given character is a vowel')\n",
    "elif ch !=v:\n",
    "    print('the given character is a consonant')\n",
    "else:\n",
    "    print('it is not a character')"
   ]
  },
  {
   "cell_type": "code",
   "execution_count": 9,
   "id": "bf9eefcb",
   "metadata": {},
   "outputs": [],
   "source": [
    "#9. Create a program to calculate the total cost of a shopping cart based on discounts."
   ]
  },
  {
   "cell_type": "code",
   "execution_count": 15,
   "id": "f4479352",
   "metadata": {},
   "outputs": [
    {
     "name": "stdout",
     "output_type": "stream",
     "text": [
      "Enter a product to buy (q to quit): headphones\n",
      "Enter the price of a headphones: rs.2500\n",
      "Enter a product to buy (q to quit): cycle\n",
      "Enter the price of a cycle: rs.10000\n",
      "Enter a product to buy (q to quit): groceries\n",
      "Enter the price of a groceries: rs.2000\n",
      "Enter a product to buy (q to quit): q\n",
      "----- YOUR CART -----\n",
      "2500.0 10000.0 2000.0 \n",
      "Your total is: rs.14500.0\n"
     ]
    }
   ],
   "source": [
    "products = []\n",
    "prices = []\n",
    "total = 0\n",
    "\n",
    "while True:\n",
    "    product = input(\"Enter a product to buy (q to quit): \")\n",
    "    if product.lower() == \"q\":\n",
    "        break\n",
    "    else:\n",
    "        price = float(input(f\"Enter the price of a {product}: rs.\"))\n",
    "        products.append(price)\n",
    "        prices.append(price)\n",
    "\n",
    "print(\"----- YOUR CART -----\")\n",
    "\n",
    "for i in products:\n",
    "    print(i, end=\" \")\n",
    "\n",
    "for j in prices:\n",
    "    total += j\n",
    "\n",
    "print()\n",
    "print(f\"Your total is: rs.{total}\")"
   ]
  },
  {
   "cell_type": "code",
   "execution_count": 16,
   "id": "0cc36757",
   "metadata": {},
   "outputs": [],
   "source": [
    "#10. Write a program that checks if a given number is even or odd."
   ]
  },
  {
   "cell_type": "code",
   "execution_count": 18,
   "id": "17b582ea",
   "metadata": {},
   "outputs": [
    {
     "name": "stdout",
     "output_type": "stream",
     "text": [
      "enter a number:6\n",
      "it is an even number\n"
     ]
    }
   ],
   "source": [
    "n = int(input('enter a number:'))\n",
    "if n%2==0:\n",
    "    print('it is an even number')\n",
    "elif n%2!=0:\n",
    "    print('it is an odd number')\n",
    "else:\n",
    "    print('it is not an integer')"
   ]
  },
  {
   "cell_type": "markdown",
   "id": "635b0a53",
   "metadata": {},
   "source": [
    "# Intermediate Level"
   ]
  },
  {
   "cell_type": "code",
   "execution_count": 19,
   "id": "8179a4ee",
   "metadata": {},
   "outputs": [],
   "source": [
    "#11. Write a program that calculates the roots of a quadratic equation ."
   ]
  },
  {
   "cell_type": "code",
   "execution_count": 24,
   "id": "eb0a2a77",
   "metadata": {},
   "outputs": [
    {
     "name": "stdout",
     "output_type": "stream",
     "text": [
      "a: 1\n",
      "b: 2\n",
      "c: 1\n",
      "real and same roots\n",
      "-1.0\n"
     ]
    }
   ],
   "source": [
    "import math\n",
    "a = int(input(\"a: \"))\n",
    "b = int(input(\"b: \"))\n",
    "c = int(input(\"c: \"))\n",
    "\n",
    "fm = b*b-4*a*c\n",
    "sqrtv = math.sqrt(abs(fm))\n",
    "\n",
    "if fm>0:\n",
    "    print(\"real and different roots\")\n",
    "    print((-b + sqrtv)/(2 * a))\n",
    "    print((-b - sqrtv)/(2 * a))\n",
    "elif fm==0:\n",
    "    print(\"real and same roots\")\n",
    "    print(-b / (2 * a))\n",
    "else:\n",
    "    print(\"Complex Roots\")\n",
    "    print(- b / (2 * a), + i, sqrtv)\n",
    "    print(- b / (2 * a), - i, sqrtv)"
   ]
  },
  {
   "cell_type": "code",
   "execution_count": 25,
   "id": "edff1851",
   "metadata": {},
   "outputs": [],
   "source": [
    "#12. Create a program that determines the day of the week based on the day number (1-7)."
   ]
  },
  {
   "cell_type": "code",
   "execution_count": 26,
   "id": "574b24e0",
   "metadata": {},
   "outputs": [
    {
     "name": "stdout",
     "output_type": "stream",
     "text": [
      "enter the day number:5\n",
      "it is Friday\n"
     ]
    }
   ],
   "source": [
    "d = int(input('enter the day number:'))\n",
    "if d==1:\n",
    "    print('it is Monday')\n",
    "elif d==2:\n",
    "    print('it is Tuesday')\n",
    "elif d==3:\n",
    "    print('it is Wednesday')\n",
    "elif d==4:\n",
    "    print('it is Thursday')\n",
    "elif d==5:\n",
    "    print('it is Friday')\n",
    "elif d==6:\n",
    "    print('it is Saturday')\n",
    "elif d==7:\n",
    "    print('it is Sunday')\n",
    "else:\n",
    "    print('enter the correct number')"
   ]
  },
  {
   "cell_type": "code",
   "execution_count": 27,
   "id": "8c470ee2",
   "metadata": {},
   "outputs": [],
   "source": [
    "#13. Develop a program that calculates the factorial of a given number using recursion."
   ]
  },
  {
   "cell_type": "code",
   "execution_count": 32,
   "id": "268b18e6",
   "metadata": {},
   "outputs": [
    {
     "name": "stdout",
     "output_type": "stream",
     "text": [
      "enter a number:6\n",
      "The factorial of 6 is 720\n"
     ]
    }
   ],
   "source": [
    "def recur_factorial(n):\n",
    "    if n == 1:\n",
    "        return n\n",
    "    else:\n",
    "        return n*recur_factorial(n-1)\n",
    "\n",
    "n1 = int(input('enter a number:'))\n",
    "if n1 < 0:\n",
    "    print(\"Sorry, factorial does not exist for negative numbers\")\n",
    "elif n1 == 0:\n",
    "    print(\"The factorial of 0 is 1\")\n",
    "else:\n",
    "    print(\"The factorial of\", n1, \"is\", recur_factorial(n1))\n"
   ]
  },
  {
   "cell_type": "code",
   "execution_count": 33,
   "id": "00c0060a",
   "metadata": {},
   "outputs": [],
   "source": [
    "#14. Write a program to find the largest among three numbers without using the `max()` function."
   ]
  },
  {
   "cell_type": "code",
   "execution_count": 35,
   "id": "78f759b6",
   "metadata": {},
   "outputs": [
    {
     "name": "stdout",
     "output_type": "stream",
     "text": [
      "a: 45\n",
      "b: 29\n",
      "c: 98\n",
      "98 is the largest number\n"
     ]
    }
   ],
   "source": [
    "a = int(input(\"a: \"))\n",
    "b = int(input(\"b: \"))\n",
    "c = int(input(\"c: \"))\n",
    "\n",
    "if a>b and a>c:\n",
    "    print( a,'is the largest number')\n",
    "elif b>a and b>c:\n",
    "    print(b,'is the largest number')\n",
    "else:\n",
    "    print(c,'is the largest number')"
   ]
  },
  {
   "cell_type": "code",
   "execution_count": 36,
   "id": "9c97b280",
   "metadata": {},
   "outputs": [],
   "source": [
    "#15. Create a program that simulates a basic ATM transaction menu."
   ]
  },
  {
   "cell_type": "code",
   "execution_count": 2,
   "id": "64613af2",
   "metadata": {},
   "outputs": [
    {
     "name": "stdout",
     "output_type": "stream",
     "text": [
      "Welcome to the State bank of india\n",
      "enter the pin:6523\n",
      "choose the transaction d:deposit and w:withdraw : w\n",
      "enter the amount you would like to withdraw5000\n",
      "5000 .rs has been debited from your account\n",
      "would you like to continue Y/N :Y\n",
      "would you like to check your balance y/n :y\n",
      "the remaining balance is  45000\n",
      "enter the pin:1234\n",
      "wrong pin, please enter the correct pin\n",
      "enter the pin:1234\n",
      "wrong pin, please enter the correct pin\n",
      "enter the pin:1234\n",
      "wrong pin, please enter the correct pin\n"
     ]
    }
   ],
   "source": [
    "print('Welcome to the State bank of india')\n",
    "trails = 3\n",
    "userpin = 6523\n",
    "userbal = 50000\n",
    "while trails!=0:\n",
    "    pin = int(input('enter the pin:'))\n",
    "    if pin != userpin:\n",
    "        trails-=1\n",
    "        print('wrong pin, please enter the correct pin')\n",
    "    else:\n",
    "        choice = input('choose the transaction d:deposit and w:withdraw : ')\n",
    "        if choice == 'd':\n",
    "            deposit = input('enter the amount you would like to deposit')\n",
    "            print(deposit,'.rs has been deposited ')\n",
    "        if choice == 'w':\n",
    "            withdraw = input('enter the amount you would like to withdraw')\n",
    "            print(withdraw,'.rs has been debited from your account')\n",
    "            wd = int(withdraw)\n",
    "            exit = input('would you like to continue Y/N :')\n",
    "        if exit == 'Y':\n",
    "            bal = input('would you like to check your balance y/n :')\n",
    "        if bal=='y':\n",
    "            userbal -= wd\n",
    "            print('the remaining balance is ',userbal)\n",
    "        else:\n",
    "            pass\n",
    "        if exit == 'N':\n",
    "            print('thankyou pls visit again')\n",
    "            break\n",
    "        else:\n",
    "            continue\n",
    "        "
   ]
  },
  {
   "cell_type": "code",
   "execution_count": 3,
   "id": "66841115",
   "metadata": {},
   "outputs": [],
   "source": [
    "#16. Build a program that checks if a given string is a palindrome or not."
   ]
  },
  {
   "cell_type": "code",
   "execution_count": 6,
   "id": "5cb30915",
   "metadata": {},
   "outputs": [
    {
     "name": "stdout",
     "output_type": "stream",
     "text": [
      "enter a string : malayalam\n",
      "it is a palindrome\n"
     ]
    }
   ],
   "source": [
    "s = input('enter a string : ')\n",
    "if s == s[::-1]:\n",
    "    print('it is a palindrome')\n",
    "else:\n",
    "    print('it is not a palindrome')"
   ]
  },
  {
   "cell_type": "code",
   "execution_count": 7,
   "id": "0800a769",
   "metadata": {},
   "outputs": [],
   "source": [
    "#17. Write a program that calculates the average of a list of numbers, excluding the smallest and largest values."
   ]
  },
  {
   "cell_type": "code",
   "execution_count": 9,
   "id": "75986d63",
   "metadata": {},
   "outputs": [
    {
     "name": "stdout",
     "output_type": "stream",
     "text": [
      "Enter the number of elements to be inserted: 6\n",
      "Enter element: 1\n",
      "Enter element: 2\n",
      "Enter element: 3\n",
      "Enter element: 4\n",
      "Enter element: 5\n",
      "Enter element: 6\n",
      "Average of elements in the list 3.5\n"
     ]
    }
   ],
   "source": [
    "n=int(input(\"Enter the number of elements to be inserted: \"))\n",
    "a=[]\n",
    "for i in range(0,n):\n",
    "    ele=int(input(\"Enter element: \"))\n",
    "    a.append(ele)\n",
    "avg=sum(a)/n\n",
    "print(\"Average of elements in the list\",round(avg,2))"
   ]
  },
  {
   "cell_type": "code",
   "execution_count": 10,
   "id": "0ed0d909",
   "metadata": {},
   "outputs": [],
   "source": [
    "#18. Develop a program that converts a given temperature from Celsius to Fahrenheit."
   ]
  },
  {
   "cell_type": "code",
   "execution_count": 11,
   "id": "030b349a",
   "metadata": {},
   "outputs": [
    {
     "name": "stdout",
     "output_type": "stream",
     "text": [
      "enter the temperature:53\n",
      "53.00 Celsius is equivalent to: 127.40 Fahrenheit\n"
     ]
    }
   ],
   "source": [
    "celsius = int(input('enter the temperature:'))\n",
    "fahrenheit = (celsius * 1.8) + 32\n",
    "\n",
    "print('%.2f Celsius is equivalent to: %.2f Fahrenheit'\n",
    "    % (celsius, fahrenheit))\n"
   ]
  },
  {
   "cell_type": "code",
   "execution_count": 12,
   "id": "29323601",
   "metadata": {},
   "outputs": [],
   "source": [
    "#19. Create a program that simulates a basic calculator for addition, subtraction, multiplication, and division."
   ]
  },
  {
   "cell_type": "code",
   "execution_count": 13,
   "id": "d8cb5ca4",
   "metadata": {},
   "outputs": [
    {
     "name": "stdout",
     "output_type": "stream",
     "text": [
      "Please select operation -\n",
      "1. Add\n",
      "2. Subtract\n",
      "3. Multiply\n",
      "4. Divide\n",
      "\n",
      "Select operations form 1, 2, 3, 4 :3\n",
      "Enter first number: 5\n",
      "Enter second number: 5\n",
      "5 * 5 = 25\n"
     ]
    }
   ],
   "source": [
    "def add(num1, num2):\n",
    "    return num1 + num2\n",
    "\n",
    "def subtract(num1, num2):\n",
    "    return num1 - num2\n",
    "\n",
    "def multiply(num1, num2):\n",
    "    return num1 * num2\n",
    "\n",
    "def divide(num1, num2):\n",
    "    return num1 / num2\n",
    "\n",
    "print(\"Please select operation -\\n\" \\\n",
    "        \"1. Add\\n\" \\\n",
    "        \"2. Subtract\\n\" \\\n",
    "        \"3. Multiply\\n\" \\\n",
    "        \"4. Divide\\n\")\n",
    "\n",
    "select = int(input(\"Select operations form 1, 2, 3, 4 :\"))\n",
    "\n",
    "number_1 = int(input(\"Enter first number: \"))\n",
    "number_2 = int(input(\"Enter second number: \"))\n",
    "\n",
    "if select == 1:\n",
    "    print(number_1, \"+\", number_2, \"=\",\n",
    "                    add(number_1, number_2))\n",
    "\n",
    "elif select == 2:\n",
    "    print(number_1, \"-\", number_2, \"=\",\n",
    "                    subtract(number_1, number_2))\n",
    "\n",
    "elif select == 3:\n",
    "    print(number_1, \"*\", number_2, \"=\",\n",
    "                    multiply(number_1, number_2))\n",
    "\n",
    "elif select == 4:\n",
    "    print(number_1, \"/\", number_2, \"=\",\n",
    "                    divide(number_1, number_2))\n",
    "else:\n",
    "    print(\"Invalid input\")\n"
   ]
  },
  {
   "cell_type": "markdown",
   "id": "e8b8eada",
   "metadata": {},
   "source": [
    "# Advanced Level"
   ]
  },
  {
   "cell_type": "code",
   "execution_count": 14,
   "id": "7e0dca06",
   "metadata": {},
   "outputs": [],
   "source": [
    "#1. Create a program that calculates the income tax based on the user's income and tax brackets."
   ]
  },
  {
   "cell_type": "code",
   "execution_count": 25,
   "id": "6b166eaf",
   "metadata": {},
   "outputs": [
    {
     "name": "stdout",
     "output_type": "stream",
     "text": [
      "enter the user income: 500000\n",
      "The User income Tax is  12500.0\n"
     ]
    }
   ],
   "source": [
    "#user Income      Tax\n",
    "#0-250000          Nil\n",
    "#250000-500000     5%\n",
    "#500000-800000     20%\n",
    "#above 1000000     30%\n",
    "\n",
    "n = int(input('enter the user income: '))\n",
    "tax = 0\n",
    "if n<=250000:\n",
    "    tax = 0\n",
    "elif n<=500000:\n",
    "    tax = (n-250000)*5/100\n",
    "elif n<=800000:\n",
    "    tax = 250000*5/100\n",
    "    tax+= (n-500000)*20/100\n",
    "elif n>1000000:\n",
    "    tax = 250000*5/100\n",
    "    tax+= 500000*20/100\n",
    "    tax+= (n-1000000)*30/100\n",
    "\n",
    "print('The User income Tax is ',tax)\n",
    "    \n",
    "    "
   ]
  },
  {
   "cell_type": "code",
   "execution_count": 27,
   "id": "24e9d324",
   "metadata": {},
   "outputs": [],
   "source": [
    "#22. Write a program that simulates a rock-paper-scissors game against the computer."
   ]
  },
  {
   "cell_type": "code",
   "execution_count": 28,
   "id": "add16e0b",
   "metadata": {},
   "outputs": [
    {
     "name": "stdout",
     "output_type": "stream",
     "text": [
      "Enter a choice (rock, paper, scissors): paper\n",
      "Player: paper\n",
      "Computer: scissors\n",
      "You lose!\n",
      "Play again? (y/n): y\n",
      "Enter a choice (rock, paper, scissors): rock\n",
      "Player: rock\n",
      "Computer: scissors\n",
      "You win!\n",
      "Play again? (y/n): n\n",
      "Thanks for playing!\n"
     ]
    }
   ],
   "source": [
    "import random\n",
    "\n",
    "options = (\"rock\", \"paper\", \"scissors\")\n",
    "running = True\n",
    "\n",
    "while running:\n",
    "\n",
    "    player = None\n",
    "    computer = random.choice(options)\n",
    "\n",
    "    while player not in options:\n",
    "        player = input(\"Enter a choice (rock, paper, scissors): \")\n",
    "\n",
    "    print(f\"Player: {player}\")\n",
    "    print(f\"Computer: {computer}\")\n",
    "\n",
    "    if player == computer:\n",
    "        print(\"It's a tie!\")\n",
    "    elif player == \"rock\" and computer == \"scissors\":\n",
    "        print(\"You win!\")\n",
    "    elif player == \"paper\" and computer == \"rock\":\n",
    "        print(\"You win!\")\n",
    "    elif player == \"scissors\" and computer == \"paper\":\n",
    "        print(\"You win!\")\n",
    "    else:\n",
    "        print(\"You lose!\")\n",
    "\n",
    "    if not input(\"Play again? (y/n): \").lower() == \"y\":\n",
    "        running = False\n",
    "\n",
    "print(\"Thanks for playing!\")"
   ]
  },
  {
   "cell_type": "code",
   "execution_count": 29,
   "id": "1d53d208",
   "metadata": {},
   "outputs": [],
   "source": [
    "#23. Develop a program that generates a random password based on user preferences (length, complexity)."
   ]
  },
  {
   "cell_type": "code",
   "execution_count": 31,
   "id": "ee3e1192",
   "metadata": {},
   "outputs": [
    {
     "name": "stdout",
     "output_type": "stream",
     "text": [
      "enter the password lenght:8\n",
      "your User password is Un}pv*(o\n"
     ]
    }
   ],
   "source": [
    "import random\n",
    "char = \"ABCDEFGHIJKLMNOPQRSTUVWXYZ123456789abcdefghijklmnopqrstuvwxyz!@#$%^&*()_+}{:\"\n",
    "leng = int(input('enter the password lenght:')) \n",
    "a = \"\".join(random.sample(char,leng))\n",
    "print(f\"your User password is {a}\")"
   ]
  },
  {
   "cell_type": "code",
   "execution_count": 32,
   "id": "3a46e3e6",
   "metadata": {},
   "outputs": [],
   "source": [
    "#24. Create a program that implements a simple text-based adventure game with branching scenarios."
   ]
  },
  {
   "cell_type": "code",
   "execution_count": 2,
   "id": "32475f45",
   "metadata": {},
   "outputs": [
    {
     "name": "stdout",
     "output_type": "stream",
     "text": [
      "WELCOME TO THE ADVENTURE GAME!\n",
      "    Let's start the action! ☆-🎬-☆\n",
      "     \n",
      "    Lily wakes up in her bedroom in the middle of the night. She heard a loud BAN outside the house.\n",
      "    Now she has two choices she can either stay in the room or check what the sound might be about.\n",
      "     \n",
      "    Type your choice: Stay or Evaluate?\n",
      "\n",
      "WELCOME TO THE ADVENTURE GAME!\n",
      "        Let's start the action! ☆-🎬-☆\n",
      " \n",
      "        Lily wakes up in her bedroom in the middle of the night. She heard a loud BAN outside the house.\n",
      "        Now she has two choices she can either stay in the room or check what the sound might be about.\n",
      " \n",
      "        Type your choice: Stay or Evaluate?\n",
      "    \n",
      "Evaluate\n",
      "Lily exits the room silently and reaches the main hall.\n",
      "\n",
      "            In the main hall, she finds a strange but cute teddy bear on the floor. \n",
      "            She wanted to pick the teddy up. \n",
      "            But should she? It doesn't belong to her. (•˳̂•̆)\n",
      " \n",
      "            Type your choice: Pick or Ignore?\n",
      " \n",
      "            \n",
      "Pick\n",
      "\n",
      "The moment Lily picked up the the teddy bear. The Teddy bear starts TALKING!The bear tells Lily that she is in grave danger as there is a monster in the house.And the monster has captured her PARENTS as well!But he hugged her and told her not to get scared as he knows how to beat the moster!\n",
      "\n",
      "The bear handed lily a magical potion which can weaken the moster and make him run away!He handed her the potion and then DISAPPEARED!Lily moved forward.\n",
      "\n",
      "\n",
      "After walking for a while, Lily saw the MONSTOR in front of her!\n",
      "    It had red eyes and evil looks. She got very scared! \n",
      "But then she remembered! She had the magic portion and she threw it on the moster!\n",
      "              Well she had nothing to lose!\n",
      "\n",
      " The monster SCREAMED in pain but he managed to make a portal and pushed Lily to a new world!\n",
      "\n",
      "\n",
      "\n",
      "=================================END OF CHAPTER 1=================================\n"
     ]
    }
   ],
   "source": [
    "print(\"\"\"WELCOME TO THE ADVENTURE GAME!\n",
    "    Let's start the action! ☆-🎬-☆\n",
    "     \n",
    "    Lily wakes up in her bedroom in the middle of the night. She heard a loud BAN outside the house.\n",
    "    Now she has two choices she can either stay in the room or check what the sound might be about.\n",
    "     \n",
    "    Type your choice: Stay or Evaluate?\n",
    "\"\"\")\n",
    "def scene1():\n",
    "    import time\n",
    "    print(\"\"\"WELCOME TO THE ADVENTURE GAME!\n",
    "        Let's start the action! ☆-🎬-☆\n",
    " \n",
    "        Lily wakes up in her bedroom in the middle of the night. She heard a loud BAN outside the house.\n",
    "        Now she has two choices she can either stay in the room or check what the sound might be about.\n",
    " \n",
    "        Type your choice: Stay or Evaluate?\n",
    "    \"\"\")\n",
    " \n",
    "    c1 = input()\n",
    "    time.sleep(2)\n",
    "    ans = 'incorrect'\n",
    "    while(ans=='incorrect'):\n",
    "        if(c1.upper()==\"STAY\"):\n",
    "            print(\"\\nLily decides to stay in the room and ends up staying inside forever as noone seems to come to help her.\")\n",
    "            ans = 'correct'\n",
    "        elif(c1.upper()==\"EVALUATE\"):\n",
    "            print(\"Lily exits the room silently and reaches the main hall.\")\n",
    "            ans='correct'\n",
    "            scene2()\n",
    "        else:\n",
    "            print(\"ENTER THE CORRECT CHOICE! Stay or Evaluate?\")\n",
    "            c1 = input()\n",
    "def scene2():\n",
    "    import time\n",
    "    print(\"\"\"\n",
    "            In the main hall, she finds a strange but cute teddy bear on the floor. \n",
    "            She wanted to pick the teddy up. \n",
    "            But should she? It doesn't belong to her. (•˳̂•̆)\n",
    " \n",
    "            Type your choice: Pick or Ignore?\n",
    " \n",
    "            \"\"\")\n",
    "    time.sleep(2)\n",
    "    c1 = input()\n",
    "    ans = 'incorrect'\n",
    "    while(ans=='incorrect'):\n",
    "        if(c1.upper()==\"PICK\"):\n",
    "            print(\"\"\"\\nThe moment Lily picked up the the teddy bear. The Teddy bear starts TALKING!The bear tells Lily that she is in grave danger as there is a monster in the house.And the monster has captured her PARENTS as well!But he hugged her and told her not to get scared as he knows how to beat the moster!\"\"\")\n",
    "            time.sleep(2)\n",
    "            print(\"\"\"\\nThe bear handed lily a magical potion which can weaken the moster and make him run away!He handed her the potion and then DISAPPEARED!Lily moved forward.\"\"\")\n",
    "            ans = 'correct'\n",
    "            pick=\"True\"\n",
    "        elif(c1.upper()=='IGNORE'):\n",
    "            print(\"\"\"\\nLily decided not to pick up the bear and walked forward.\"\"\")\n",
    "            ans='correct'\n",
    "            pick=\"False\"\n",
    "        else:\n",
    "            print(\"Wrong Input! Enter pick or ignore?\")\n",
    "            c1=input()\n",
    "    time.sleep(2)\n",
    "    scene3(pick)\n",
    "def scene3(pick_value):\n",
    "    import time\n",
    "    print(\"\"\"\\n\\nAfter walking for a while, Lily saw the MONSTOR in front of her!\n",
    "    It had red eyes and evil looks. She got very scared! \"\"\")\n",
    "    time.sleep(2)\n",
    "    if(pick_value==\"True\"):\n",
    "        time.sleep(2)\n",
    "        print(\"\"\"But then she remembered! She had the magic portion and she threw it on the moster!\n",
    "              Well she had nothing to lose!\"\"\")\n",
    "        time.sleep(2)\n",
    "        print(\"\\n The monster SCREAMED in pain but he managed to make a portal and pushed Lily to a new world!\")\n",
    "    elif(pick_value==\"False\"):\n",
    "        print(\"The monster attacked Lily and hurt her! She was then thrown to the new world by the monster!\")\n",
    "scene1()\n",
    "print(\"\\n\\n\")\n",
    "print(\"=================================END OF CHAPTER 1=================================\")\n"
   ]
  },
  {
   "cell_type": "code",
   "execution_count": 3,
   "id": "6dfa95cb",
   "metadata": {},
   "outputs": [],
   "source": [
    "#25. Build a program that solves a linear equation for x, considering different cases."
   ]
  },
  {
   "cell_type": "code",
   "execution_count": 9,
   "id": "64b22e96",
   "metadata": {},
   "outputs": [
    {
     "name": "stdout",
     "output_type": "stream",
     "text": [
      "x is [5.] y is [3.] z is [-2.]\n"
     ]
    }
   ],
   "source": [
    "#consider a linear equations\n",
    "#x+y+z = 6\n",
    "#2y+5z = -4\n",
    "#2x+5y-z=27\n",
    "\n",
    "#it is in form of matrix\n",
    "#|1 1 1| |x| = |6| \n",
    "#|0 2 5| |y| = |-4|\n",
    "#|2 5-1| |z| = |27|\n",
    "#---A----X-----B--\n",
    "# A*X = B\n",
    "# X = B/A=B*A^-1\n",
    "\n",
    "import numpy as np\n",
    "\n",
    "A = np.array([[1,1,1],[0,2,5],[2,5,-1]])\n",
    "B = np.array([[6],[-4],[27]])\n",
    "X = np.dot(np.linalg.inv(A),B)\n",
    "print(f'x is {X[0]} y is {X[1]} z is {X[2]}')"
   ]
  },
  {
   "cell_type": "code",
   "execution_count": 10,
   "id": "6e860d5d",
   "metadata": {},
   "outputs": [],
   "source": [
    "#26. Write a program that simulates a basic quiz game with multiple-choice questions and scoring."
   ]
  },
  {
   "cell_type": "code",
   "execution_count": 11,
   "id": "aa90d4d5",
   "metadata": {},
   "outputs": [
    {
     "name": "stdout",
     "output_type": "stream",
     "text": [
      "----------------------\n",
      "How many elements are in the periodic table?: \n",
      "A. 116\n",
      "B. 117\n",
      "C. 118\n",
      "D. 119\n",
      "Enter (A, B, C, D): a\n",
      "INCORRECT!\n",
      "C is the correct answer\n",
      "----------------------\n",
      "Which animal lays the largest eggs?: \n",
      "A. Whale\n",
      "B. Crocodile\n",
      "C. Elephant\n",
      "D. Ostrich\n",
      "Enter (A, B, C, D): a\n",
      "CORRECT!\n",
      "----------------------\n",
      "What is the most abundant gas in Earth's atmosphere?: \n",
      "A. Nitrogen\n",
      "B. Oxygen\n",
      "C. Carbon-Dioxide\n",
      "D. Hydrogen\n",
      "Enter (A, B, C, D): a\n",
      "CORRECT!\n",
      "----------------------\n",
      "How many bones are in the human body?: \n",
      "A. 206\n",
      "B. 207\n",
      "C. 208\n",
      "D. 209\n",
      "Enter (A, B, C, D): a\n",
      "CORRECT!\n",
      "----------------------\n",
      "Which planet in the solar system is the hottest?: \n",
      "A. Mercury\n",
      "B. Venus\n",
      "C. Earth\n",
      "D. Mars\n",
      "Enter (A, B, C, D): a\n",
      "INCORRECT!\n",
      "B is the correct answer\n",
      "----------------------\n",
      "       RESULTS        \n",
      "----------------------\n",
      "answers: C A A A B \n",
      "guesses: A A A A A \n",
      "Your score is: 60%\n"
     ]
    }
   ],
   "source": [
    "questions = (\"How many elements are in the periodic table?: \",\n",
    "             \"Which animal lays the largest eggs?: \",\n",
    "             \"What is the most abundant gas in Earth's atmosphere?: \",\n",
    "             \"How many bones are in the human body?: \",\n",
    "             \"Which planet in the solar system is the hottest?: \")\n",
    "\n",
    "options = ((\"A. 116\", \"B. 117\", \"C. 118\", \"D. 119\"),\n",
    "           (\"A. Whale\", \"B. Crocodile\", \"C. Elephant\", \"D. Ostrich\"),\n",
    "           (\"A. Nitrogen\", \"B. Oxygen\", \"C. Carbon-Dioxide\", \"D. Hydrogen\"),\n",
    "           (\"A. 206\", \"B. 207\", \"C. 208\", \"D. 209\"),\n",
    "           (\"A. Mercury\", \"B. Venus\", \"C. Earth\", \"D. Mars\"))\n",
    "\n",
    "answers = (\"C\", \"A\", \"A\", \"A\", \"B\")\n",
    "guesses = []\n",
    "score = 0\n",
    "question_num = 0\n",
    "for question in questions:\n",
    "    print(\"----------------------\")\n",
    "    print(question)\n",
    "    for option in options[question_num]:\n",
    "        print(option)\n",
    "\n",
    "    guess = input(\"Enter (A, B, C, D): \").upper()\n",
    "    guesses.append(guess)\n",
    "    if guess == answers[question_num]:\n",
    "        score += 1\n",
    "        print(\"CORRECT!\")\n",
    "    else:\n",
    "        print(\"INCORRECT!\")\n",
    "        print(f\"{answers[question_num]} is the correct answer\")\n",
    "    question_num += 1\n",
    "print(\"----------------------\")\n",
    "print(\"       RESULTS        \")\n",
    "print(\"----------------------\")\n",
    "\n",
    "print(\"answers: \", end=\"\")\n",
    "for answer in answers:\n",
    "    print(answer, end=\" \")\n",
    "print()\n",
    "\n",
    "print(\"guesses: \", end=\"\")\n",
    "for guess in guesses:\n",
    "    print(guess, end=\" \")\n",
    "print()\n",
    "\n",
    "score = int(score / len(questions) * 100)\n",
    "print(f\"Your score is: {score}%\")"
   ]
  },
  {
   "cell_type": "code",
   "execution_count": 12,
   "id": "0d1d01dd",
   "metadata": {},
   "outputs": [],
   "source": [
    "#27. Develop a program that determines whether a given year is a prime number or not."
   ]
  },
  {
   "cell_type": "code",
   "execution_count": 24,
   "id": "60db604f",
   "metadata": {},
   "outputs": [
    {
     "name": "stdout",
     "output_type": "stream",
     "text": [
      "Enter year:2017\n",
      "2017 is a prime number\n"
     ]
    }
   ],
   "source": [
    "def PrimeChecker(a):   \n",
    "    if a > 1:   \n",
    "        for j in range(2, int(a/2) + 1):  \n",
    "            if (a % j) == 0:  \n",
    "                print(a, \"is not a prime number\")  \n",
    "                break \n",
    "        else:  \n",
    "            print(a, \"is a prime number\")    \n",
    "    else:  \n",
    "        print(a, \"is not a prime number\")   \n",
    "a = int(input(\"Enter year:\"))  \n",
    "PrimeChecker(a) "
   ]
  },
  {
   "cell_type": "code",
   "execution_count": 25,
   "id": "54dae0a9",
   "metadata": {},
   "outputs": [],
   "source": [
    "#28. Create a program that sorts three numbers in ascending order using conditional statements."
   ]
  },
  {
   "cell_type": "code",
   "execution_count": 26,
   "id": "9a63cb3a",
   "metadata": {},
   "outputs": [
    {
     "name": "stdout",
     "output_type": "stream",
     "text": [
      "Enter a: 5\n",
      "Enter b: 4\n",
      "Enter c: 3\n",
      "3.0 < 4.0 < 5.0\n"
     ]
    }
   ],
   "source": [
    "a = float(input(\"Enter a: \"))\n",
    "b = float(input(\"Enter b: \"))\n",
    "c = float(input(\"Enter c: \"))\n",
    "\n",
    "if a > b:\n",
    "    a,b = b,a\n",
    "if a > c:\n",
    "    a,c = c,a\n",
    "if b > c:\n",
    "    b,c = c,b\n",
    "    \n",
    "print (a, \"<\", b, \"<\", c)"
   ]
  },
  {
   "cell_type": "code",
   "execution_count": 27,
   "id": "3695ade0",
   "metadata": {},
   "outputs": [],
   "source": [
    "#29. Build a program that determines the roots of a quartic equation using numerical methods."
   ]
  },
  {
   "cell_type": "code",
   "execution_count": 32,
   "id": "9b626a09",
   "metadata": {},
   "outputs": [
    {
     "name": "stdout",
     "output_type": "stream",
     "text": [
      "enter the value:2\n",
      "enter the value:-8\n",
      "enter the value:3\n",
      "type of roots:Two distinct Roots\n",
      "The solutions are (0.41886116991581024+0j) and (3.58113883008419+0j)\n"
     ]
    }
   ],
   "source": [
    "# Solve the quadratic equation ax**2 + bx + c = 0\n",
    "\n",
    "# import complex math module\n",
    "import cmath\n",
    "\n",
    "a = int(input('enter the value:'))\n",
    "b = int(input('enter the value:'))\n",
    "c = int(input('enter the value:'))\n",
    "\n",
    "# calculate the discriminant\n",
    "d = (b**2) - (4*a*c)\n",
    "\n",
    "# find two solutions\n",
    "sol1 = (-b-cmath.sqrt(d))/(2*a)\n",
    "sol2 = (-b+cmath.sqrt(d))/(2*a)\n",
    "\n",
    "if d>0:\n",
    "    print('type of roots:Two distinct Roots')\n",
    "elif d==0:\n",
    "    print('type of roots:Two Real Roots')\n",
    "elif d>0:\n",
    "    print('type of roots:Two complex Roots')\n",
    "    \n",
    "print('The solutions are {0} and {1}'.format(sol1,sol2))"
   ]
  },
  {
   "cell_type": "code",
   "execution_count": 33,
   "id": "f8dff3ae",
   "metadata": {},
   "outputs": [],
   "source": [
    "#30. Write a program that calculates the BMI (Body Mass Index) and provides health recommendations based on the user's input."
   ]
  },
  {
   "cell_type": "code",
   "execution_count": 41,
   "id": "06c11e0e",
   "metadata": {},
   "outputs": [
    {
     "name": "stdout",
     "output_type": "stream",
     "text": [
      "enter height:1.6\n",
      "enter weight:75\n",
      "The BMI is 29.296874999999993 so overweight do exercises and reduce your fat\n"
     ]
    }
   ],
   "source": [
    "def BMI(height, weight):\n",
    "    bmi = weight/(height**2)\n",
    "    return bmi\n",
    "\n",
    "height = float(input('enter height:'))\n",
    "weight = float(input('enter weight:'))\n",
    "\n",
    "bmi = BMI(height, weight)\n",
    "print(\"The BMI is\", format(bmi), \"so \", end='')\n",
    "  \n",
    "if (bmi < 18.5):\n",
    "    print(\"underweight eat protien more and gain weight\")\n",
    "elif ( bmi >= 18.5 and bmi < 24.9):\n",
    "    print(\"Healthy maintain diet and be healthy \")\n",
    "elif ( bmi >= 24.9 and bmi < 30):\n",
    "    print(\"overweight do exercises and reduce your fat\")\n",
    "elif ( bmi >=30):\n",
    "    print(\"Suffering from Obesity immediatly avoid junk and maintain proper diet\")"
   ]
  },
  {
   "cell_type": "code",
   "execution_count": null,
   "id": "3fd0a4f1",
   "metadata": {},
   "outputs": [],
   "source": []
  }
 ],
 "metadata": {
  "kernelspec": {
   "display_name": "Python 3 (ipykernel)",
   "language": "python",
   "name": "python3"
  },
  "language_info": {
   "codemirror_mode": {
    "name": "ipython",
    "version": 3
   },
   "file_extension": ".py",
   "mimetype": "text/x-python",
   "name": "python",
   "nbconvert_exporter": "python",
   "pygments_lexer": "ipython3",
   "version": "3.9.7"
  }
 },
 "nbformat": 4,
 "nbformat_minor": 5
}
